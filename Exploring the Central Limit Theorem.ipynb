{
 "cells": [
  {
   "cell_type": "markdown",
   "metadata": {},
   "source": [
    "# Lab 1: Exploring the Central Limit Theorem"
   ]
  },
  {
   "cell_type": "markdown",
   "metadata": {},
   "source": [
    "## Tanisha Payne"
   ]
  },
  {
   "cell_type": "markdown",
   "metadata": {},
   "source": [
    "One of the most important theorems in statistics is the Central Limit Theorem. It generally says that\n",
    "regardless of the population’s true distribution, if you make repeated independent samplings from that\n",
    "population, and then take the means of those samplings, as the number of samplings goes up, the distribution\n",
    "of those means will tend towards a normal distribution.\n",
    "\n",
    "Or to quote Wikipedia (https://en.wikipedia.org/wiki/Central_limit_theorem):\n",
    "\n",
    "In probability theory, the central limit theorem (CLT) establishes that, in most situations, when\n",
    "independent random variables are added, their properly normalized sum tends toward a normal\n",
    "distribution (informally a “bell curve”) even if the original variables themselves are not normally\n",
    "distributed. The theorem is a key concept in probability theory because it implies that probabilistic\n",
    "and statistical methods that work for normal distributions can be applicable to many problems\n",
    "involving other types of distributions.\n",
    "Build a simulation to test the ideas behind the CLT. The process might look like:\n",
    "1. pick any distribution that’s not already normal (e.g. exponential, binomial, something bimodal, etc)\n",
    "2. create a large population (10,000s? more?) - store in an array or dataframe\n",
    "3. take a small (uniform) random sample from that population and compute and store the mean\n",
    "4. repeat 3 a “bunch” of times.\n",
    "5. analyze your collection of means from those samples\n",
    "Does it matter how large the individual samples are? Does it matter how many sample means you collect?\n",
    "If you have the statistical knowledge, do you have a way to show how close to “normal” your collection of\n",
    "sample means appear to be?\n",
    "It might be worth checking out this page: http://www.ltcconline.net/greenl/java/Statistics/clt/cltsimulation.\n",
    "html\n",
    "For the overall problem, write a paragraph or more about what you found challenging and/or what you\n",
    "learned while working on this problem."
   ]
  },
  {
   "cell_type": "markdown",
   "metadata": {},
   "source": [
    "First I import the libraries which will be used to create, simulate, and plot the data."
   ]
  },
  {
   "cell_type": "code",
   "execution_count": 6,
   "metadata": {},
   "outputs": [],
   "source": [
    "import pandas as pd\n",
    "import numpy as np\n",
    "import matplotlib.pyplot as plt\n",
    "import random as rand"
   ]
  },
  {
   "cell_type": "markdown",
   "metadata": {},
   "source": [
    "Next a large population size from a exponential distribution is created and stored into a dataframe."
   ]
  },
  {
   "cell_type": "code",
   "execution_count": 7,
   "metadata": {},
   "outputs": [],
   "source": [
    "#samples from an exponential distribution\n",
    "df = pd.DataFrame(np.random.exponential(1,10000), columns=list('A'))\n"
   ]
  },
  {
   "cell_type": "markdown",
   "metadata": {},
   "source": [
    "A new data frame is defined for the upcoming uniform samples as well as how large the uniform samples are and the number of times the simulation will be ran."
   ]
  },
  {
   "cell_type": "code",
   "execution_count": 3,
   "metadata": {},
   "outputs": [],
   "source": [
    "#dataframe for uniform samples\n",
    "s_df = []\n",
    "\n",
    "#number of times the simulation will be ran\n",
    "run = 10000\n",
    "\n",
    "#uniform sample size\n",
    "n = 100\n"
   ]
  },
  {
   "cell_type": "markdown",
   "metadata": {},
   "source": [
    "The simulation consist of a for loop which will run the results several times and storing each resulting mean into a the samples dataframe to be plotted in a histogram."
   ]
  },
  {
   "cell_type": "code",
   "execution_count": 4,
   "metadata": {},
   "outputs": [],
   "source": [
    "#run simulation a large number times store each output in a dataframe\n",
    "for x in range(run):\n",
    "    \n",
    "    \n",
    "    #uniform small samples taken from the dataframe\n",
    "    s = df.sample(n)\n",
    "    \n",
    "  \n",
    "    #convert the data fram to an array to be analyzed \n",
    "    a = s.values #convert data frame t\n",
    "    \n",
    "    #find the mean of the samples\n",
    "    #mean of means\n",
    "    m = np.mean(a)\n",
    " \n",
    "      \n",
    "    s_df.append(m)\n",
    " "
   ]
  },
  {
   "cell_type": "code",
   "execution_count": 5,
   "metadata": {},
   "outputs": [
    {
     "data": {
      "image/png": "[encoded data removed]",
      "text/plain": [
       "<Figure size 432x288 with 1 Axes>"
      ]
     },
     "metadata": {
      "needs_background": "light"
     },
     "output_type": "display_data"
    }
   ],
   "source": [
    "plt.hist(s_df, bins='auto')\n",
    "plt.show()\n"
   ]
  },
  {
   "cell_type": "markdown",
   "metadata": {},
   "source": [
    "The concept of central limit theorem is still quite new me so I thought running this simulation would help give me a deeper understanding of how it works. Since the population of the data is so large I chose to run the simulation 10,000 times as well to give me the most data samples means to analyze hoping it would give me more accurate results. Upon first obsevation with a small uniform sample sizes the less than 10 the data didn't quite look like a uniform distribution. It had charicteristics but it wasn't that obvious. As the sample size increased so did the accuracy of the mean. The histograph helped visually display this information because the normal distribution curve becomes narrower and more distinct. The challenges I had with the lab is just making sure I was producing the data correctly with the pandas and numpy libraries. "
   ]
  }
 ],
 "metadata": {
  "kernelspec": {
   "display_name": "Python 3",
   "language": "python",
   "name": "python3"
  },
  "language_info": {
   "codemirror_mode": {
    "name": "ipython",
    "version": 3
   },
   "file_extension": ".py",
   "mimetype": "text/x-python",
   "name": "python",
   "nbconvert_exporter": "python",
   "pygments_lexer": "ipython3",
   "version": "3.8.3"
  }
 },
 "nbformat": 4,
 "nbformat_minor": 2
}
